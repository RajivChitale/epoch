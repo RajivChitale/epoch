{
  "nbformat": 4,
  "nbformat_minor": 0,
  "metadata": {
    "colab": {
      "provenance": [],
      "authorship_tag": "ABX9TyMPNLhLJZpYR72ox2mXtjbz",
      "include_colab_link": true
    },
    "kernelspec": {
      "name": "python3",
      "display_name": "Python 3"
    },
    "language_info": {
      "name": "python"
    }
  },
  "cells": [
    {
      "cell_type": "markdown",
      "metadata": {
        "id": "view-in-github",
        "colab_type": "text"
      },
      "source": [
        "<a href=\"https://colab.research.google.com/github/RajivChitale/epoch/blob/main/RL-tabular-methods/07-policy-iteration.ipynb\" target=\"_parent\"><img src=\"https://colab.research.google.com/assets/colab-badge.svg\" alt=\"Open In Colab\"/></a>"
      ]
    },
    {
      "cell_type": "code",
      "execution_count": null,
      "metadata": {
        "id": "Gam73nhDZIC6"
      },
      "outputs": [],
      "source": [
        "import numpy as np\n",
        "!pip install ray[rllib]\n",
        "# !pip install --upgrade ipykernel\n",
        "import gymnasium as gym\n",
        "from matplotlib import pyplot as plt"
      ]
    },
    {
      "cell_type": "code",
      "source": [
        "env = gym.make('FrozenLake-v1', map_name = '4x4', is_slippery = True)\n",
        "\n",
        "  # MAP:\n",
        "  # \"SFFF\",\n",
        "  # \"FHFH\",\n",
        "  # \"FFFH\",\n",
        "  # \"HFFG\"\n",
        "\n",
        "# env.env.P[3]\n",
        "\n",
        "height = 4\n",
        "width = 4\n",
        "# num_actions = env.env.action_space.n"
      ],
      "metadata": {
        "id": "9d75ypEdbPoI"
      },
      "execution_count": 8,
      "outputs": []
    },
    {
      "cell_type": "code",
      "source": [
        "class PolicyIterationRunner:\n",
        "  def __init__(self, theta = 0.001, discount = 0.99, num_actions=4, num_states=16):\n",
        "    self.theta = theta\n",
        "    self.discount = discount\n",
        "    self.num_states = num_states\n",
        "    self.num_actions = num_actions\n",
        "\n",
        "    self.V = np.random.random(self.num_states)\n",
        "    self.P = np.random.randint(self.num_actions, size=self.num_states)\n",
        "    self.policy_converged = False\n",
        "\n",
        "\n",
        "  def estimate_value(self, state, action):\n",
        "    future = env.env.P[state][action]\n",
        "\n",
        "    updated_value = 0   # default for terminal state\n",
        "    for next in future:\n",
        "      # if next == state:\n",
        "      #   continue\n",
        "      probability, next_state, reward, done = next\n",
        "      updated_value += probability * (reward + self.discount * self.V[next_state])\n",
        "    return updated_value\n",
        "\n",
        "  def infer_policy(self, state):\n",
        "    # find maximum over all actions\n",
        "    max_value = None\n",
        "    best_action = None\n",
        "\n",
        "    for action in range(self.num_actions):\n",
        "      action_value = self.estimate_value(state, action)\n",
        "\n",
        "      if max_value == None or max_value < action_value:\n",
        "        max_value = action_value\n",
        "        best_action = action\n",
        "      # print(V[state], max_value)\n",
        "    return best_action\n",
        "\n",
        "\n",
        "  def policy_evaluation(self):\n",
        "    while True:\n",
        "      delta = 0\n",
        "      for state in range(self.num_states):\n",
        "        v = self.V[state]    # old value\n",
        "        self.V[state] = self.estimate_value(state, self.P[state])    # renew value of state, following current policy\n",
        "        delta = max(delta, abs(self.V[state] - v))\n",
        "\n",
        "      if delta < self.theta: break\n",
        "    return\n",
        "\n",
        "  def policy_improvement(self):\n",
        "    self.policy_converged = True\n",
        "    for state in range(self.num_states):\n",
        "      prev_policy = self.P[state]\n",
        "      self.P[state] = self.infer_policy(state)\n",
        "      if self.P[state] != prev_policy:\n",
        "        self.policy_converged = False\n",
        "    return\n",
        "\n",
        "\n",
        "  def policy_iteration(self):\n",
        "    i=0\n",
        "    while not self.policy_converged:\n",
        "      i+=1\n",
        "      print(\"iteration\", i)\n",
        "      self.policy_evaluation()\n",
        "      self.policy_improvement()\n",
        "\n",
        "  def display_result(self):\n",
        "    action_map = {\n",
        "      0 : 'L',\n",
        "      1 : 'D',\n",
        "      2 : 'R',\n",
        "      3 : 'U'\n",
        "    }\n",
        "    P = np.vectorize(lambda x: action_map[x]) (self.P)\n",
        "    print(self.V.reshape(height, width))\n",
        "    print(P.reshape(height, width))\n",
        "\n"
      ],
      "metadata": {
        "id": "98ieO55bU7yE"
      },
      "execution_count": 37,
      "outputs": []
    },
    {
      "cell_type": "code",
      "source": [
        "runner = PolicyIterationRunner(theta = 0.001, discount = 0.99)\n",
        "runner.policy_iteration()\n",
        "runner.display_result()"
      ],
      "metadata": {
        "colab": {
          "base_uri": "https://localhost:8080/"
        },
        "id": "NI7z-uNl595q",
        "outputId": "0b4bc713-2596-47d0-99a9-7e614fefe3b1"
      },
      "execution_count": 39,
      "outputs": [
        {
          "output_type": "stream",
          "name": "stdout",
          "text": [
            "iteration 1\n",
            "iteration 2\n",
            "iteration 3\n",
            "iteration 4\n",
            "iteration 5\n",
            "[[5.37102378e-01 4.89541672e-01 4.58364462e-01 4.42953636e-01]\n",
            " [5.54448002e-01 2.46041812e-02 3.62709106e-01 5.77876138e-03]\n",
            " [5.89208337e-01 6.42311067e-01 6.16333892e-01 3.07567168e-02]\n",
            " [4.40860686e-03 7.41182749e-01 8.62729319e-01 3.85328819e-04]]\n",
            "[['L' 'U' 'U' 'U']\n",
            " ['L' 'L' 'L' 'L']\n",
            " ['U' 'D' 'L' 'L']\n",
            " ['L' 'R' 'D' 'L']]\n"
          ]
        }
      ]
    },
    {
      "cell_type": "code",
      "source": [
        "def heatmap(V):\n",
        "    fig, ax = plt.subplots()\n",
        "    im = ax.imshow(V, interpolation='none', cmap='plasma')\n",
        "\n",
        "    for i in range(height):\n",
        "        for j in range(width):\n",
        "            text = ax.text(j, i, round(V[i, j],3), ha=\"center\", va=\"center\", color=\"w\")\n",
        "\n",
        "    ax.set_title(\"Heatmap of Values\")\n",
        "    fig.tight_layout()\n",
        "    plt.show()\n",
        "    #print(V)\n",
        "\n",
        "heatmap(runner.V.reshape(height,width))"
      ],
      "metadata": {
        "colab": {
          "base_uri": "https://localhost:8080/",
          "height": 487
        },
        "id": "sBT_rIE7S3hQ",
        "outputId": "811ea746-08d9-4302-ae8c-df04c12b0eeb"
      },
      "execution_count": 40,
      "outputs": [
        {
          "output_type": "display_data",
          "data": {
            "text/plain": [
              "<Figure size 640x480 with 1 Axes>"
            ],
            "image/png": "[encoded data removed]"
          },
          "metadata": {}
        }
      ]
    }
  ]
}