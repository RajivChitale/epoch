{
  "nbformat": 4,
  "nbformat_minor": 0,
  "metadata": {
    "colab": {
      "provenance": [],
      "authorship_tag": "ABX9TyNwWH4ErQpqayp4tZpiCVr6",
      "include_colab_link": true
    },
    "kernelspec": {
      "name": "python3",
      "display_name": "Python 3"
    },
    "language_info": {
      "name": "python"
    }
  },
  "cells": [
    {
      "cell_type": "markdown",
      "metadata": {
        "id": "view-in-github",
        "colab_type": "text"
      },
      "source": [
        "<a href=\"https://colab.research.google.com/github/RajivChitale/epoch/blob/main/RL-tabular-methods/06-value-iteration.ipynb\" target=\"_parent\"><img src=\"https://colab.research.google.com/assets/colab-badge.svg\" alt=\"Open In Colab\"/></a>"
      ]
    },
    {
      "cell_type": "code",
      "execution_count": null,
      "metadata": {
        "id": "Gam73nhDZIC6"
      },
      "outputs": [],
      "source": [
        "import numpy as np\n",
        "!pip install ray[rllib]\n",
        "# !pip install --upgrade ipykernel\n",
        "import gymnasium as gym\n",
        "from matplotlib import pyplot as plt"
      ]
    },
    {
      "cell_type": "code",
      "source": [
        "env = gym.make('FrozenLake-v1', map_name = '4x4', is_slippery = True)\n",
        "\n",
        "  # MAP:\n",
        "  # \"SFFF\",\n",
        "  # \"FHFH\",\n",
        "  # \"FFFH\",\n",
        "  # \"HFFG\"\n",
        "\n",
        "# env.env.P[3]\n",
        "\n",
        "height = 4\n",
        "width = 4\n",
        "num_actions = env.env.action_space.n"
      ],
      "metadata": {
        "id": "9d75ypEdbPoI"
      },
      "execution_count": null,
      "outputs": []
    },
    {
      "cell_type": "code",
      "source": [
        "def updated_state_value(V, state, discount):\n",
        "  # find maximum over all actions\n",
        "\n",
        "  max_value = None\n",
        "  best_action = None\n",
        "\n",
        "  for action in range(num_actions):\n",
        "    updated_value = 0   # default for terminal state\n",
        "    # all possibile transitions due to environment\n",
        "    future = env.env.P[state][action]\n",
        "    for next in future:\n",
        "      # if next == state:\n",
        "      #   continue\n",
        "      probability, next_state, reward, done = next\n",
        "      updated_value += probability * (reward + discount * V[next_state])\n",
        "\n",
        "    if max_value == None or max_value < updated_value:\n",
        "      max_value = updated_value\n",
        "      best_action = action\n",
        "    # print(V[state], max_value)\n",
        "  return max_value, best_action\n",
        "\n",
        "\n",
        "def gen_policy(V, discount):\n",
        "  P = np.zeros(height*width) # initialize with 0 (or random values if it gets stuck at start)\n",
        "  for state in range(len(P)):\n",
        "    _, best_action = updated_state_value(V, state, discount)\n",
        "    P[state] = best_action\n",
        "  return P\n",
        "\n",
        "\n",
        "def value_iteration(theta = 0.0001, discount = 0.99):\n",
        "  V = np.random.random(height*width) * 0.0  # initialize with 0 (or random values if it gets stuck at start)\n",
        "\n",
        "  # training loop\n",
        "  i = 0\n",
        "  while True:\n",
        "    delta = 0\n",
        "    # update every state\n",
        "    for state in range(len(V)):\n",
        "      temp_V = V[state]\n",
        "      V[state], _ = updated_state_value(V, state, discount)\n",
        "      delta = max(delta, abs(V[state]-temp_V))\n",
        "\n",
        "    # print(delta)\n",
        "    if delta < theta: break\n",
        "\n",
        "  P = gen_policy(V, discount)\n",
        "  P = np.vectorize(lambda x: actionMap[x]) (P)\n",
        "\n",
        "  return V.reshape(height, width), P.reshape(height, width)\n",
        "\n",
        "actionMap = {\n",
        "    0 : 'L',\n",
        "    1 : 'D',\n",
        "    2 : 'R',\n",
        "    3 : 'U'\n",
        "}\n",
        "\n",
        "V,P = value_iteration()\n",
        "\n",
        "print(V)\n",
        "print(P)"
      ],
      "metadata": {
        "id": "-g_yFFTmbRTs",
        "colab": {
          "base_uri": "https://localhost:8080/"
        },
        "outputId": "0f49188c-34cb-4875-8391-ce2256cca198"
      },
      "execution_count": null,
      "outputs": [
        {
          "output_type": "stream",
          "name": "stdout",
          "text": [
            "[[0.54083394 0.49722378 0.46884941 0.45487071]\n",
            " [0.55739213 0.         0.35755091 0.        ]\n",
            " [0.5909355  0.64245898 0.61466487 0.        ]\n",
            " [0.         0.74129273 0.86262154 0.        ]]\n",
            "[['L' 'U' 'U' 'U']\n",
            " ['L' 'L' 'L' 'L']\n",
            " ['U' 'D' 'L' 'L']\n",
            " ['L' 'R' 'D' 'L']]\n"
          ]
        }
      ]
    },
    {
      "cell_type": "code",
      "source": [
        "def heatmap(V):\n",
        "    fig, ax = plt.subplots()\n",
        "    im = ax.imshow(V, interpolation='none', cmap='plasma')\n",
        "\n",
        "    for i in range(height):\n",
        "        for j in range(width):\n",
        "            text = ax.text(j, i, round(V[i, j],3), ha=\"center\", va=\"center\", color=\"w\")\n",
        "\n",
        "    ax.set_title(\"Heatmap of Values\")\n",
        "    fig.tight_layout()\n",
        "    plt.show()\n",
        "    #print(V)\n",
        "\n",
        "heatmap(V)"
      ],
      "metadata": {
        "colab": {
          "base_uri": "https://localhost:8080/",
          "height": 487
        },
        "id": "sBT_rIE7S3hQ",
        "outputId": "e769cb8b-79fc-4601-e71c-b7d1f76fd559"
      },
      "execution_count": null,
      "outputs": [
        {
          "output_type": "display_data",
          "data": {
            "text/plain": [
              "<Figure size 640x480 with 1 Axes>"
            ],
            "image/png": "[encoded data removed]"
          },
          "metadata": {}
        }
      ]
    }
  ]
}